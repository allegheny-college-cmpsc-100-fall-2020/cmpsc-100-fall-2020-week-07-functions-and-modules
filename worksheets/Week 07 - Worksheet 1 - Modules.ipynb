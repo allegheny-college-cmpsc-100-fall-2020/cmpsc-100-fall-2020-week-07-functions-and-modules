{
 "cells": [
  {
   "cell_type": "markdown",
   "metadata": {},
   "source": [
    "# Week 07, Worksheet 1: Modules\n",
    "\n",
    "<div class=\"alert alert-block alert-info\">\n",
    "    This worksheet implements to-do markers where work needs to be completed. In some cases, this means that you'll need to add a line or two to an example. In other cases (such as the final exercise), you may need to solve an entire problem.\n",
    "</div>\n",
    "\n",
    "## Totally modular, bruh\n",
    "\n",
    "To this point, we've relied on either \"built-in\" or self-written code to create and run our programs. However, the universe of Python is mighty, and there are many ways that we can augment our programs by bringing in _other_ functionality from what are called _modules_.\n",
    "\n",
    "You may ask: \"Why don't we just have all of this stuff from the beginning?\" It's a good question.\n",
    "\n",
    "Without delving into all sorts of discussions about application performance, \"bloatware,\" and general difficulties with the idea of \"what do we include,\" it's enough to say that we don't need every bit of functionality _all the time_. For example, we haven't had to use any random numbers to this point, right?\n",
    "\n",
    "Today we will. To do so, we need to `import` the module by name. That's it:\n",
    "\n",
    "```python\n",
    "import random\n",
    "```\n",
    "\n",
    "The above is just Markdown, though, so you need to do it below.\n",
    "\n",
    "### 1. `import` the `random` module below."
   ]
  },
  {
   "cell_type": "code",
   "execution_count": 1,
   "metadata": {},
   "outputs": [],
   "source": [
    "# TODO: Finish import statment for random"
   ]
  },
  {
   "cell_type": "markdown",
   "metadata": {},
   "source": [
    "## Using the module\n",
    "\n",
    "OK. Now that we have that out of the way, we can _use it_. Doing so is similar how we used `string`s last week; `random` contains a bunch of methods, and we use the `dot notation` syntax to access them.\n",
    "\n",
    "| Method | Argument(s) |Effect |\n",
    "|--------|-------------|-------|\n",
    "|`.choice()`|Sequence or data structure to choose from| Chooses a random element from the argument(s) provided |\n",
    "|`.randint()`|Two `int`egers |Selects a random value in the range of the two provided `int`egers |\n",
    "|`.random()`|None | Generates a random number between `0.0` and `1.0` |\n",
    "|`.sample()`|Sequence or data structure, \"k\" value (`int`) (number of items to choose| Returns a random sample (no repeats) from the arugment(s) provided |\n",
    "|`.shuffle()`* |Sequence or data structure to \"shuffle\" | Rearranges the order of the argument(s) provided |\n",
    "\n",
    "`*`: Note that this _will permanently alter the list_.\n",
    "\n",
    "\n",
    "Here, when using the `random` module, we always refer to it as the `random` object, like so:"
   ]
  },
  {
   "cell_type": "code",
   "execution_count": 17,
   "metadata": {},
   "outputs": [
    {
     "name": "stdout",
     "output_type": "stream",
     "text": [
      "A random number between 0.0 and 1.0: 0.07623229905401852\n",
      "A random number from 1-100: 19\n"
     ]
    }
   ],
   "source": [
    "# Run this cell a few times to see how the values of the numbers change\n",
    "print(f\"A random number between 0.0 and 1.0: {random.random()}\")\n",
    "print(f\"A random number from 1-100: {random.randint(1,100)}\")"
   ]
  },
  {
   "cell_type": "markdown",
   "metadata": {},
   "source": [
    "Many of these methods have somewhat specific applications -- namely something like `sample`, often used to quickly demonstrate what a random sampling of a given sequence or data structure might be. This might seem equivalent to `choice`, but the outcomes differ:"
   ]
  },
  {
   "cell_type": "code",
   "execution_count": 11,
   "metadata": {},
   "outputs": [
    {
     "name": "stdout",
     "output_type": "stream",
     "text": [
      "A random sample of any 3 names: ['Buddy Bug Man', 'Mr. U', 'Ulysses']\n",
      "A random choice of any name: Mane Man\n"
     ]
    }
   ],
   "source": [
    "# On any given day, I call my cat these names -- as you know\n",
    "cat_names = [\"Ulysses\", \"The Boss\", \"Mr. U\", \"Snooze Magoo\", \"Mane Man\", \"The Bug\", \"Buddy Bug Man\"]\n",
    "\n",
    "# Again, run this cell multiple times to see how the values change\n",
    "print(f\"A random sample of any 3 names: {random.sample(cat_names,3)}\")\n",
    "print(f\"A random choice of any name: {random.choice(cat_names)}\")"
   ]
  },
  {
   "cell_type": "markdown",
   "metadata": {},
   "source": [
    "The difference here is slight (one returns a `string`, the other a `list` of values), but the implications for any code are significant -- we have to handle what we get differently.\n",
    "\n",
    "### 2. Generate random numbers between the following ranges:\n",
    "\n",
    "`print` the result of each operation."
   ]
  },
  {
   "cell_type": "code",
   "execution_count": 6,
   "metadata": {},
   "outputs": [
    {
     "name": "stdout",
     "output_type": "stream",
     "text": [
      "98\n",
      "32\n",
      "34\n"
     ]
    }
   ],
   "source": [
    "# TODO: Generate number between 10 - 100\n",
    "# TODO: Generate number between 3 - 76\n",
    "# TODO: Generate number between 20 - 80"
   ]
  },
  {
   "cell_type": "markdown",
   "metadata": {},
   "source": [
    "### 3. `shuffle` the `cat_names` `list`"
   ]
  },
  {
   "cell_type": "code",
   "execution_count": 14,
   "metadata": {},
   "outputs": [
    {
     "name": "stdout",
     "output_type": "stream",
     "text": [
      "Before shuffle: ['The Boss', 'Mane Man', 'Ulysses', 'Buddy Bug Man', 'Mr. U', 'The Bug', 'Snooze Magoo']\n",
      "After shuffle: ['Snooze Magoo', 'The Bug', 'The Boss', 'Ulysses', 'Mane Man', 'Buddy Bug Man', 'Mr. U']\n"
     ]
    }
   ],
   "source": [
    "# Observe how the list changes\n",
    "print(f\"Before shuffle: {cat_names}\")\n",
    "# TODO: Use shuffle method of random on cat_names\n",
    "print(f\"After shuffle: {cat_names}\")"
   ]
  },
  {
   "cell_type": "markdown",
   "metadata": {},
   "source": [
    "## Final exercise\n",
    "\n",
    "On any given day of the week, I am likely to call my cat by any given name in my list -- we know this. However, on any given day, I am likely to call him up to 5 of the 7 names currently in my list. \n",
    "\n",
    "Here's my question to you: on each given day of the week, following my rule above, what would a \"schedule\" names look like? Here's how it might look:\n",
    "\n",
    "```\n",
    "Monday: The Boss, Mane Man, Ulysses, Buddy Bug Man, Mr. U\n",
    ".\n",
    ".\n",
    ".\n",
    ".\n",
    ".\n",
    "Sunday: Ulysses, Snooze Magoo, The Boss, Mr. U, Mane Man\n",
    "```\n",
    "\n",
    "Your job is to print a calendar for me using:\n",
    "\n",
    "* the `cat_names` list\n",
    "* iteration on the provided data structure\n",
    "* a method or use of `random` to select items from the list _without repeating_\n",
    "  * each day _must be a unique set of names_ (i.e. names can't repeat for a given day)\n",
    "  * there are at least 2 easy ways to do this\n",
    "* to print these after each day in a _formatted string_ exactly like those above\n",
    "\n",
    "<div class=\"alert alert-block alert-warning\">\n",
    "<p>Complete this work using the Python file <a href = \"Week_07_Worksheet_1_Final_Exercise.py\">located here</a>. </p>\n",
    "<p>To test your program as a <b>py</b> file, <b>cd</b> to the <b>lab</b> folder and run the command:</p>\n",
    "    <pre>python3 Week_07_Worksheet_1_Final_Exercise.py</pre>\n",
    "    </p>\n",
    "</div>"
   ]
  }
 ],
 "metadata": {
  "kernelspec": {
   "display_name": "Python 3",
   "language": "python",
   "name": "python3"
  },
  "language_info": {
   "codemirror_mode": {
    "name": "ipython",
    "version": 3
   },
   "file_extension": ".py",
   "mimetype": "text/x-python",
   "name": "python",
   "nbconvert_exporter": "python",
   "pygments_lexer": "ipython3",
   "version": "3.8.5"
  }
 },
 "nbformat": 4,
 "nbformat_minor": 4
}
