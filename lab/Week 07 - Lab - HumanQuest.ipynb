{
 "cells": [
  {
   "cell_type": "markdown",
   "metadata": {},
   "source": [
    "# CMPSC 100: HumanQuest\n",
    "\n",
    "<div class=\"alert alert-block alert-warning\">\n",
    "    <p>This week's lab uses a Python file to write and run our code. Recall that these files are the real way that Python programs are stored and run. To test your program as a <b>py</b> file, <b>cd</b> to the <b>lab</b> folder and run the command:</p>\n",
    "    <pre>python3 Week_07_Lab_HumanQuest.py</pre>\n",
    "</div>\n",
    "\n",
    "![Because anything else would be boring](https://cs.allegheny.edu/sites/dluman/cmpsc100/cmpsc-100-humanquest.png)"
   ]
  },
  {
   "cell_type": "markdown",
   "metadata": {},
   "source": [
    "As a gator who falls prey to the latest trends sweeping the Gator Kingdom, G. Wiz and his friends Slippy Toad, Frogger, and Lyle Crocodile find themselves caught up in playing HumanQuest, a game in which the friends form a party and role-play mundane human jobs and tasks. After a marathon session over over 10 hours, the crew confronts a final challenge in the adventure and must defeat it or their party's work is doomed! They only have one chance, and they're relying on their luck for success.\n",
    "\n",
    "* `G. Wiz` chose to play a janitor, and when they roll dice for any challenge, they use a `four-sided die` (`d4`)\n",
    "* `Slippy Toad` plays a middle manager, and when they roll dice for challenges, they use a `six-sided die` (`d6`)\n",
    "* `Frogger`, the practical one of the group, plays a software developer -- which uses an `eight-sided die` (`d8`)\n",
    "* `Lyle`, a late-comer to the group, chose to play a consultant, a role which decides everything with a coin flip (`d2`)\n",
    "\n",
    "The monster they're up against rolls only one die, contained in the `monster.txt` file along with the monster's name. \n",
    "\n",
    "The sum of all of the party's rolls must be greater than (not equal to) the difficulty of the challenge. Both the challenge difficulty and name have been provided to you in the above-referenced file. You must first read and store these values.\n",
    "\n",
    "To leverage this week's learning, you must create a single function called `die_roll` which rolls the various-sided dice.\n",
    "\n",
    "You and your heroes will need the best of luck to overcome this challenge!"
   ]
  },
  {
   "cell_type": "markdown",
   "metadata": {},
   "source": [
    "## Requirements\n",
    "\n",
    "---\n"
   ]
  },
  {
   "cell_type": "markdown",
   "metadata": {},
   "source": [
    "`Week_07_Lab_HumanQuest.py`\n",
    "\n",
    "Use [this file to write the program](Week_07_Lab_HumanQuest.py)\n",
    "\n",
    "* Uses at least 8 single-line comments\n",
    "* Implements the `random` module\n",
    "* Implements a function named `die_roll` which:\n",
    "  * uses `randint` to generate the appropriate random value for:\n",
    "    * each member's die roll\n",
    "    * the monster's die roll\n",
    "  * `return`s the value\n",
    "* Compares the total of these rolls against the challenge's roll in order to determine a true/false value representing the party's defeat of the challenge \"boss\" (i.e. the monster)\n",
    "* Determines if the party defeats the challenge (i.e. rolls higher in total than the roll of the \"boss\")\n",
    "  * In the event of a tie, the monster wins\n",
    "  * If the monster wins, print `The Paper Jam defeats the party!`\n",
    "  * If the party wins, print `The party defeats the Paper Jam!`\n",
    "* Prints the result of each roll (using `f-string`s), matching the output pictured here:\n",
    "\n",
    "```\n",
    "The party must beat the Paper Jam's roll: 9\n",
    "G. Wiz rolls: 1\n",
    "Slippy rolls: 4\n",
    "Frogger rolls: 7\n",
    "Lyle rolls: 1\n",
    "The party's total roll: 13\n",
    "The party defeats the Paper Jam!\n",
    "```"
   ]
  }
 ],
 "metadata": {
  "kernelspec": {
   "display_name": "Python 3",
   "language": "python",
   "name": "python3"
  },
  "language_info": {
   "codemirror_mode": {
    "name": "ipython",
    "version": 3
   },
   "file_extension": ".py",
   "mimetype": "text/x-python",
   "name": "python",
   "nbconvert_exporter": "python",
   "pygments_lexer": "ipython3",
   "version": "3.8.5"
  }
 },
 "nbformat": 4,
 "nbformat_minor": 4
}
